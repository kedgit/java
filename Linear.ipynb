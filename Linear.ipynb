{
 "cells": [
  {
   "cell_type": "code",
   "execution_count": 1,
   "metadata": {},
   "outputs": [],
   "source": [
    "import numpy as np \n",
    "import pandas as pd \n",
    "import matplotlib.pyplot as plt \n",
    "from sklearn import metrics\n",
    "%matplotlib inline\n",
    "from sklearn.preprocessing import MinMaxScaler\n",
    "from keras.models import Sequential\n",
    "from keras.layers import Dense,LSTM,Dropout"
   ]
  },
  {
   "cell_type": "code",
   "execution_count": 2,
   "metadata": {},
   "outputs": [
    {
     "data": {
      "text/html": [
       "<div>\n",
       "<style scoped>\n",
       "    .dataframe tbody tr th:only-of-type {\n",
       "        vertical-align: middle;\n",
       "    }\n",
       "\n",
       "    .dataframe tbody tr th {\n",
       "        vertical-align: top;\n",
       "    }\n",
       "\n",
       "    .dataframe thead th {\n",
       "        text-align: right;\n",
       "    }\n",
       "</style>\n",
       "<table border=\"1\" class=\"dataframe\">\n",
       "  <thead>\n",
       "    <tr style=\"text-align: right;\">\n",
       "      <th></th>\n",
       "      <th>Date</th>\n",
       "      <th>Open</th>\n",
       "      <th>High</th>\n",
       "      <th>Low</th>\n",
       "      <th>Close</th>\n",
       "      <th>Volume</th>\n",
       "    </tr>\n",
       "  </thead>\n",
       "  <tbody>\n",
       "    <tr>\n",
       "      <th>0</th>\n",
       "      <td>2015-01-02</td>\n",
       "      <td>8288.700195</td>\n",
       "      <td>8410.599609</td>\n",
       "      <td>8288.700195</td>\n",
       "      <td>8395.450195</td>\n",
       "      <td>101900</td>\n",
       "    </tr>\n",
       "    <tr>\n",
       "      <th>1</th>\n",
       "      <td>2015-01-05</td>\n",
       "      <td>8407.950195</td>\n",
       "      <td>8445.599609</td>\n",
       "      <td>8363.900391</td>\n",
       "      <td>8378.400391</td>\n",
       "      <td>118200</td>\n",
       "    </tr>\n",
       "    <tr>\n",
       "      <th>2</th>\n",
       "      <td>2015-01-06</td>\n",
       "      <td>8325.299805</td>\n",
       "      <td>8327.849609</td>\n",
       "      <td>8111.350098</td>\n",
       "      <td>8127.350098</td>\n",
       "      <td>172800</td>\n",
       "    </tr>\n",
       "    <tr>\n",
       "      <th>3</th>\n",
       "      <td>2015-01-07</td>\n",
       "      <td>8118.649902</td>\n",
       "      <td>8151.200195</td>\n",
       "      <td>8065.450195</td>\n",
       "      <td>8102.100098</td>\n",
       "      <td>164100</td>\n",
       "    </tr>\n",
       "    <tr>\n",
       "      <th>4</th>\n",
       "      <td>2015-01-08</td>\n",
       "      <td>8191.399902</td>\n",
       "      <td>8243.500000</td>\n",
       "      <td>8167.299805</td>\n",
       "      <td>8234.599609</td>\n",
       "      <td>143800</td>\n",
       "    </tr>\n",
       "  </tbody>\n",
       "</table>\n",
       "</div>"
      ],
      "text/plain": [
       "         Date         Open         High          Low        Close  Volume\n",
       "0  2015-01-02  8288.700195  8410.599609  8288.700195  8395.450195  101900\n",
       "1  2015-01-05  8407.950195  8445.599609  8363.900391  8378.400391  118200\n",
       "2  2015-01-06  8325.299805  8327.849609  8111.350098  8127.350098  172800\n",
       "3  2015-01-07  8118.649902  8151.200195  8065.450195  8102.100098  164100\n",
       "4  2015-01-08  8191.399902  8243.500000  8167.299805  8234.599609  143800"
      ]
     },
     "execution_count": 2,
     "metadata": {},
     "output_type": "execute_result"
    }
   ],
   "source": [
    "data = pd.read_csv(\"C:\\\\Users\\\\91904\\\\OneDrive\\\\Desktop\\\\project\\\\Nifty.csv\")\n",
    "data.head()"
   ]
  },
  {
   "cell_type": "markdown",
   "metadata": {},
   "source": []
  },
  {
   "cell_type": "code",
   "execution_count": 3,
   "metadata": {},
   "outputs": [
    {
     "data": {
      "text/html": [
       "<div>\n",
       "<style scoped>\n",
       "    .dataframe tbody tr th:only-of-type {\n",
       "        vertical-align: middle;\n",
       "    }\n",
       "\n",
       "    .dataframe tbody tr th {\n",
       "        vertical-align: top;\n",
       "    }\n",
       "\n",
       "    .dataframe thead th {\n",
       "        text-align: right;\n",
       "    }\n",
       "</style>\n",
       "<table border=\"1\" class=\"dataframe\">\n",
       "  <thead>\n",
       "    <tr style=\"text-align: right;\">\n",
       "      <th></th>\n",
       "      <th>Date</th>\n",
       "      <th>Open</th>\n",
       "      <th>High</th>\n",
       "      <th>Low</th>\n",
       "      <th>Close</th>\n",
       "      <th>Volume</th>\n",
       "      <th>Prev_close</th>\n",
       "    </tr>\n",
       "  </thead>\n",
       "  <tbody>\n",
       "    <tr>\n",
       "      <th>0</th>\n",
       "      <td>2015-01-02</td>\n",
       "      <td>8288.700195</td>\n",
       "      <td>8410.599609</td>\n",
       "      <td>8288.700195</td>\n",
       "      <td>8395.450195</td>\n",
       "      <td>101900</td>\n",
       "      <td>NaN</td>\n",
       "    </tr>\n",
       "    <tr>\n",
       "      <th>1</th>\n",
       "      <td>2015-01-05</td>\n",
       "      <td>8407.950195</td>\n",
       "      <td>8445.599609</td>\n",
       "      <td>8363.900391</td>\n",
       "      <td>8378.400391</td>\n",
       "      <td>118200</td>\n",
       "      <td>8395.450195</td>\n",
       "    </tr>\n",
       "    <tr>\n",
       "      <th>2</th>\n",
       "      <td>2015-01-06</td>\n",
       "      <td>8325.299805</td>\n",
       "      <td>8327.849609</td>\n",
       "      <td>8111.350098</td>\n",
       "      <td>8127.350098</td>\n",
       "      <td>172800</td>\n",
       "      <td>8378.400391</td>\n",
       "    </tr>\n",
       "    <tr>\n",
       "      <th>3</th>\n",
       "      <td>2015-01-07</td>\n",
       "      <td>8118.649902</td>\n",
       "      <td>8151.200195</td>\n",
       "      <td>8065.450195</td>\n",
       "      <td>8102.100098</td>\n",
       "      <td>164100</td>\n",
       "      <td>8127.350098</td>\n",
       "    </tr>\n",
       "    <tr>\n",
       "      <th>4</th>\n",
       "      <td>2015-01-08</td>\n",
       "      <td>8191.399902</td>\n",
       "      <td>8243.500000</td>\n",
       "      <td>8167.299805</td>\n",
       "      <td>8234.599609</td>\n",
       "      <td>143800</td>\n",
       "      <td>8102.100098</td>\n",
       "    </tr>\n",
       "  </tbody>\n",
       "</table>\n",
       "</div>"
      ],
      "text/plain": [
       "         Date         Open         High          Low        Close  Volume  \\\n",
       "0  2015-01-02  8288.700195  8410.599609  8288.700195  8395.450195  101900   \n",
       "1  2015-01-05  8407.950195  8445.599609  8363.900391  8378.400391  118200   \n",
       "2  2015-01-06  8325.299805  8327.849609  8111.350098  8127.350098  172800   \n",
       "3  2015-01-07  8118.649902  8151.200195  8065.450195  8102.100098  164100   \n",
       "4  2015-01-08  8191.399902  8243.500000  8167.299805  8234.599609  143800   \n",
       "\n",
       "    Prev_close  \n",
       "0          NaN  \n",
       "1  8395.450195  \n",
       "2  8378.400391  \n",
       "3  8127.350098  \n",
       "4  8102.100098  "
      ]
     },
     "execution_count": 3,
     "metadata": {},
     "output_type": "execute_result"
    }
   ],
   "source": [
    "series_shifted = data['Close'].shift()\n",
    "data['Prev_close'] = series_shifted\n",
    "data.head()"
   ]
  },
  {
   "cell_type": "code",
   "execution_count": 4,
   "metadata": {},
   "outputs": [
    {
     "data": {
      "text/html": [
       "<div>\n",
       "<style scoped>\n",
       "    .dataframe tbody tr th:only-of-type {\n",
       "        vertical-align: middle;\n",
       "    }\n",
       "\n",
       "    .dataframe tbody tr th {\n",
       "        vertical-align: top;\n",
       "    }\n",
       "\n",
       "    .dataframe thead th {\n",
       "        text-align: right;\n",
       "    }\n",
       "</style>\n",
       "<table border=\"1\" class=\"dataframe\">\n",
       "  <thead>\n",
       "    <tr style=\"text-align: right;\">\n",
       "      <th></th>\n",
       "      <th>Date</th>\n",
       "      <th>Open</th>\n",
       "      <th>High</th>\n",
       "      <th>Low</th>\n",
       "      <th>Close</th>\n",
       "      <th>Volume</th>\n",
       "      <th>Prev_close</th>\n",
       "    </tr>\n",
       "  </thead>\n",
       "  <tbody>\n",
       "    <tr>\n",
       "      <th>0</th>\n",
       "      <td>2015-01-02</td>\n",
       "      <td>8288.700195</td>\n",
       "      <td>8410.599609</td>\n",
       "      <td>8288.700195</td>\n",
       "      <td>8395.450195</td>\n",
       "      <td>101900</td>\n",
       "      <td>NaN</td>\n",
       "    </tr>\n",
       "    <tr>\n",
       "      <th>1</th>\n",
       "      <td>2015-01-05</td>\n",
       "      <td>8407.950195</td>\n",
       "      <td>8445.599609</td>\n",
       "      <td>8363.900391</td>\n",
       "      <td>8378.400391</td>\n",
       "      <td>118200</td>\n",
       "      <td>8395.450195</td>\n",
       "    </tr>\n",
       "    <tr>\n",
       "      <th>2</th>\n",
       "      <td>2015-01-06</td>\n",
       "      <td>8325.299805</td>\n",
       "      <td>8327.849609</td>\n",
       "      <td>8111.350098</td>\n",
       "      <td>8127.350098</td>\n",
       "      <td>172800</td>\n",
       "      <td>8378.400391</td>\n",
       "    </tr>\n",
       "    <tr>\n",
       "      <th>3</th>\n",
       "      <td>2015-01-07</td>\n",
       "      <td>8118.649902</td>\n",
       "      <td>8151.200195</td>\n",
       "      <td>8065.450195</td>\n",
       "      <td>8102.100098</td>\n",
       "      <td>164100</td>\n",
       "      <td>8127.350098</td>\n",
       "    </tr>\n",
       "    <tr>\n",
       "      <th>4</th>\n",
       "      <td>2015-01-08</td>\n",
       "      <td>8191.399902</td>\n",
       "      <td>8243.500000</td>\n",
       "      <td>8167.299805</td>\n",
       "      <td>8234.599609</td>\n",
       "      <td>143800</td>\n",
       "      <td>8102.100098</td>\n",
       "    </tr>\n",
       "  </tbody>\n",
       "</table>\n",
       "</div>"
      ],
      "text/plain": [
       "        Date         Open         High          Low        Close  Volume  \\\n",
       "0 2015-01-02  8288.700195  8410.599609  8288.700195  8395.450195  101900   \n",
       "1 2015-01-05  8407.950195  8445.599609  8363.900391  8378.400391  118200   \n",
       "2 2015-01-06  8325.299805  8327.849609  8111.350098  8127.350098  172800   \n",
       "3 2015-01-07  8118.649902  8151.200195  8065.450195  8102.100098  164100   \n",
       "4 2015-01-08  8191.399902  8243.500000  8167.299805  8234.599609  143800   \n",
       "\n",
       "    Prev_close  \n",
       "0          NaN  \n",
       "1  8395.450195  \n",
       "2  8378.400391  \n",
       "3  8127.350098  \n",
       "4  8102.100098  "
      ]
     },
     "execution_count": 4,
     "metadata": {},
     "output_type": "execute_result"
    }
   ],
   "source": [
    "#time format\n",
    "data['Date'] = pd.to_datetime(data.Date)\n",
    "data.head()"
   ]
  },
  {
   "cell_type": "code",
   "execution_count": 5,
   "metadata": {},
   "outputs": [
    {
     "data": {
      "text/plain": [
       "(2213, 7)"
      ]
     },
     "execution_count": 5,
     "metadata": {},
     "output_type": "execute_result"
    }
   ],
   "source": [
    "data.shape"
   ]
  },
  {
   "cell_type": "code",
   "execution_count": 6,
   "metadata": {},
   "outputs": [
    {
     "data": {
      "text/plain": [
       "Date          0\n",
       "Open          0\n",
       "High          0\n",
       "Low           0\n",
       "Close         0\n",
       "Volume        0\n",
       "Prev_close    1\n",
       "dtype: int64"
      ]
     },
     "execution_count": 6,
     "metadata": {},
     "output_type": "execute_result"
    }
   ],
   "source": [
    "#null entries\n",
    "data.isnull().sum()"
   ]
  },
  {
   "cell_type": "code",
   "execution_count": 7,
   "metadata": {},
   "outputs": [
    {
     "data": {
      "text/html": [
       "<div>\n",
       "<style scoped>\n",
       "    .dataframe tbody tr th:only-of-type {\n",
       "        vertical-align: middle;\n",
       "    }\n",
       "\n",
       "    .dataframe tbody tr th {\n",
       "        vertical-align: top;\n",
       "    }\n",
       "\n",
       "    .dataframe thead th {\n",
       "        text-align: right;\n",
       "    }\n",
       "</style>\n",
       "<table border=\"1\" class=\"dataframe\">\n",
       "  <thead>\n",
       "    <tr style=\"text-align: right;\">\n",
       "      <th></th>\n",
       "      <th>Date</th>\n",
       "      <th>Open</th>\n",
       "      <th>High</th>\n",
       "      <th>Low</th>\n",
       "      <th>Close</th>\n",
       "      <th>Volume</th>\n",
       "      <th>Prev_close</th>\n",
       "    </tr>\n",
       "  </thead>\n",
       "  <tbody>\n",
       "    <tr>\n",
       "      <th>1</th>\n",
       "      <td>2015-01-05</td>\n",
       "      <td>8407.950195</td>\n",
       "      <td>8445.599609</td>\n",
       "      <td>8363.900391</td>\n",
       "      <td>8378.400391</td>\n",
       "      <td>118200</td>\n",
       "      <td>8395.450195</td>\n",
       "    </tr>\n",
       "    <tr>\n",
       "      <th>2</th>\n",
       "      <td>2015-01-06</td>\n",
       "      <td>8325.299805</td>\n",
       "      <td>8327.849609</td>\n",
       "      <td>8111.350098</td>\n",
       "      <td>8127.350098</td>\n",
       "      <td>172800</td>\n",
       "      <td>8378.400391</td>\n",
       "    </tr>\n",
       "    <tr>\n",
       "      <th>3</th>\n",
       "      <td>2015-01-07</td>\n",
       "      <td>8118.649902</td>\n",
       "      <td>8151.200195</td>\n",
       "      <td>8065.450195</td>\n",
       "      <td>8102.100098</td>\n",
       "      <td>164100</td>\n",
       "      <td>8127.350098</td>\n",
       "    </tr>\n",
       "    <tr>\n",
       "      <th>4</th>\n",
       "      <td>2015-01-08</td>\n",
       "      <td>8191.399902</td>\n",
       "      <td>8243.500000</td>\n",
       "      <td>8167.299805</td>\n",
       "      <td>8234.599609</td>\n",
       "      <td>143800</td>\n",
       "      <td>8102.100098</td>\n",
       "    </tr>\n",
       "    <tr>\n",
       "      <th>5</th>\n",
       "      <td>2015-01-09</td>\n",
       "      <td>8285.450195</td>\n",
       "      <td>8303.299805</td>\n",
       "      <td>8190.799805</td>\n",
       "      <td>8284.500000</td>\n",
       "      <td>148000</td>\n",
       "      <td>8234.599609</td>\n",
       "    </tr>\n",
       "    <tr>\n",
       "      <th>...</th>\n",
       "      <td>...</td>\n",
       "      <td>...</td>\n",
       "      <td>...</td>\n",
       "      <td>...</td>\n",
       "      <td>...</td>\n",
       "      <td>...</td>\n",
       "      <td>...</td>\n",
       "    </tr>\n",
       "    <tr>\n",
       "      <th>2208</th>\n",
       "      <td>2023-12-22</td>\n",
       "      <td>21295.849609</td>\n",
       "      <td>21390.500000</td>\n",
       "      <td>21232.449219</td>\n",
       "      <td>21349.400391</td>\n",
       "      <td>284700</td>\n",
       "      <td>21255.050781</td>\n",
       "    </tr>\n",
       "    <tr>\n",
       "      <th>2209</th>\n",
       "      <td>2023-12-26</td>\n",
       "      <td>21365.199219</td>\n",
       "      <td>21477.150391</td>\n",
       "      <td>21329.449219</td>\n",
       "      <td>21441.349609</td>\n",
       "      <td>219500</td>\n",
       "      <td>21349.400391</td>\n",
       "    </tr>\n",
       "    <tr>\n",
       "      <th>2210</th>\n",
       "      <td>2023-12-27</td>\n",
       "      <td>21497.650391</td>\n",
       "      <td>21675.750000</td>\n",
       "      <td>21495.800781</td>\n",
       "      <td>21654.750000</td>\n",
       "      <td>256500</td>\n",
       "      <td>21441.349609</td>\n",
       "    </tr>\n",
       "    <tr>\n",
       "      <th>2211</th>\n",
       "      <td>2023-12-28</td>\n",
       "      <td>21715.000000</td>\n",
       "      <td>21801.449219</td>\n",
       "      <td>21678.000000</td>\n",
       "      <td>21778.699219</td>\n",
       "      <td>393100</td>\n",
       "      <td>21654.750000</td>\n",
       "    </tr>\n",
       "    <tr>\n",
       "      <th>2212</th>\n",
       "      <td>2023-12-29</td>\n",
       "      <td>21737.650391</td>\n",
       "      <td>21770.300781</td>\n",
       "      <td>21676.900391</td>\n",
       "      <td>21731.400391</td>\n",
       "      <td>270900</td>\n",
       "      <td>21778.699219</td>\n",
       "    </tr>\n",
       "  </tbody>\n",
       "</table>\n",
       "<p>2212 rows × 7 columns</p>\n",
       "</div>"
      ],
      "text/plain": [
       "           Date          Open          High           Low         Close  \\\n",
       "1    2015-01-05   8407.950195   8445.599609   8363.900391   8378.400391   \n",
       "2    2015-01-06   8325.299805   8327.849609   8111.350098   8127.350098   \n",
       "3    2015-01-07   8118.649902   8151.200195   8065.450195   8102.100098   \n",
       "4    2015-01-08   8191.399902   8243.500000   8167.299805   8234.599609   \n",
       "5    2015-01-09   8285.450195   8303.299805   8190.799805   8284.500000   \n",
       "...         ...           ...           ...           ...           ...   \n",
       "2208 2023-12-22  21295.849609  21390.500000  21232.449219  21349.400391   \n",
       "2209 2023-12-26  21365.199219  21477.150391  21329.449219  21441.349609   \n",
       "2210 2023-12-27  21497.650391  21675.750000  21495.800781  21654.750000   \n",
       "2211 2023-12-28  21715.000000  21801.449219  21678.000000  21778.699219   \n",
       "2212 2023-12-29  21737.650391  21770.300781  21676.900391  21731.400391   \n",
       "\n",
       "      Volume    Prev_close  \n",
       "1     118200   8395.450195  \n",
       "2     172800   8378.400391  \n",
       "3     164100   8127.350098  \n",
       "4     143800   8102.100098  \n",
       "5     148000   8234.599609  \n",
       "...      ...           ...  \n",
       "2208  284700  21255.050781  \n",
       "2209  219500  21349.400391  \n",
       "2210  256500  21441.349609  \n",
       "2211  393100  21654.750000  \n",
       "2212  270900  21778.699219  \n",
       "\n",
       "[2212 rows x 7 columns]"
      ]
     },
     "execution_count": 7,
     "metadata": {},
     "output_type": "execute_result"
    }
   ],
   "source": [
    "#drop / remove\n",
    "data[\"Close\"]=pd.to_numeric(data.Close,errors='coerce')\n",
    "data[\"Prev_close\"]=pd.to_numeric(data.Prev_close,errors='coerce')\n",
    "\n",
    "data.dropna(inplace=True)\n",
    "data"
   ]
  },
  {
   "cell_type": "code",
   "execution_count": 8,
   "metadata": {},
   "outputs": [
    {
     "name": "stdout",
     "output_type": "stream",
     "text": [
      "<class 'pandas.core.frame.DataFrame'>\n",
      "Index: 2212 entries, 1 to 2212\n",
      "Data columns (total 7 columns):\n",
      " #   Column      Non-Null Count  Dtype         \n",
      "---  ------      --------------  -----         \n",
      " 0   Date        2212 non-null   datetime64[ns]\n",
      " 1   Open        2212 non-null   float64       \n",
      " 2   High        2212 non-null   float64       \n",
      " 3   Low         2212 non-null   float64       \n",
      " 4   Close       2212 non-null   float64       \n",
      " 5   Volume      2212 non-null   int64         \n",
      " 6   Prev_close  2212 non-null   float64       \n",
      "dtypes: datetime64[ns](1), float64(5), int64(1)\n",
      "memory usage: 138.2 KB\n"
     ]
    }
   ],
   "source": [
    "data.info()"
   ]
  },
  {
   "cell_type": "code",
   "execution_count": 9,
   "metadata": {},
   "outputs": [
    {
     "data": {
      "text/plain": [
       "<Axes: >"
      ]
     },
     "execution_count": 9,
     "metadata": {},
     "output_type": "execute_result"
    },
    {
     "data": {
      "image/png": "[encoded data removed]",
      "text/plain": [
       "<Figure size 1000x600 with 1 Axes>"
      ]
     },
     "metadata": {},
     "output_type": "display_data"
    }
   ],
   "source": [
    "#Plt close prices\n",
    "data['Date'].plot(figsize=(10,6))"
   ]
  },
  {
   "cell_type": "code",
   "execution_count": null,
   "metadata": {},
   "outputs": [],
   "source": []
  },
  {
   "cell_type": "code",
   "execution_count": 10,
   "metadata": {},
   "outputs": [],
   "source": [
    "#x and y\n",
    "x = data[['Open', 'High', 'Low', 'Volume']]\n",
    "y = data['Close']"
   ]
  },
  {
   "cell_type": "code",
   "execution_count": 11,
   "metadata": {},
   "outputs": [],
   "source": [
    "from sklearn.model_selection import train_test_split\n",
    "x_train,x_test,y_train,y_test = train_test_split(x,y,random_state=0)"
   ]
  },
  {
   "cell_type": "code",
   "execution_count": 12,
   "metadata": {},
   "outputs": [
    {
     "name": "stdout",
     "output_type": "stream",
     "text": [
      "(1659, 4) (553, 4)\n"
     ]
    }
   ],
   "source": [
    "print(x_train.shape,x_test.shape)\n"
   ]
  },
  {
   "cell_type": "code",
   "execution_count": 13,
   "metadata": {},
   "outputs": [
    {
     "data": {
      "text/html": [
       "<style>#sk-container-id-1 {color: black;background-color: white;}#sk-container-id-1 pre{padding: 0;}#sk-container-id-1 div.sk-toggleable {background-color: white;}#sk-container-id-1 label.sk-toggleable__label {cursor: pointer;display: block;width: 100%;margin-bottom: 0;padding: 0.3em;box-sizing: border-box;text-align: center;}#sk-container-id-1 label.sk-toggleable__label-arrow:before {content: \"▸\";float: left;margin-right: 0.25em;color: #696969;}#sk-container-id-1 label.sk-toggleable__label-arrow:hover:before {color: black;}#sk-container-id-1 div.sk-estimator:hover label.sk-toggleable__label-arrow:before {color: black;}#sk-container-id-1 div.sk-toggleable__content {max-height: 0;max-width: 0;overflow: hidden;text-align: left;background-color: #f0f8ff;}#sk-container-id-1 div.sk-toggleable__content pre {margin: 0.2em;color: black;border-radius: 0.25em;background-color: #f0f8ff;}#sk-container-id-1 input.sk-toggleable__control:checked~div.sk-toggleable__content {max-height: 200px;max-width: 100%;overflow: auto;}#sk-container-id-1 input.sk-toggleable__control:checked~label.sk-toggleable__label-arrow:before {content: \"▾\";}#sk-container-id-1 div.sk-estimator input.sk-toggleable__control:checked~label.sk-toggleable__label {background-color: #d4ebff;}#sk-container-id-1 div.sk-label input.sk-toggleable__control:checked~label.sk-toggleable__label {background-color: #d4ebff;}#sk-container-id-1 input.sk-hidden--visually {border: 0;clip: rect(1px 1px 1px 1px);clip: rect(1px, 1px, 1px, 1px);height: 1px;margin: -1px;overflow: hidden;padding: 0;position: absolute;width: 1px;}#sk-container-id-1 div.sk-estimator {font-family: monospace;background-color: #f0f8ff;border: 1px dotted black;border-radius: 0.25em;box-sizing: border-box;margin-bottom: 0.5em;}#sk-container-id-1 div.sk-estimator:hover {background-color: #d4ebff;}#sk-container-id-1 div.sk-parallel-item::after {content: \"\";width: 100%;border-bottom: 1px solid gray;flex-grow: 1;}#sk-container-id-1 div.sk-label:hover label.sk-toggleable__label {background-color: #d4ebff;}#sk-container-id-1 div.sk-serial::before {content: \"\";position: absolute;border-left: 1px solid gray;box-sizing: border-box;top: 0;bottom: 0;left: 50%;z-index: 0;}#sk-container-id-1 div.sk-serial {display: flex;flex-direction: column;align-items: center;background-color: white;padding-right: 0.2em;padding-left: 0.2em;position: relative;}#sk-container-id-1 div.sk-item {position: relative;z-index: 1;}#sk-container-id-1 div.sk-parallel {display: flex;align-items: stretch;justify-content: center;background-color: white;position: relative;}#sk-container-id-1 div.sk-item::before, #sk-container-id-1 div.sk-parallel-item::before {content: \"\";position: absolute;border-left: 1px solid gray;box-sizing: border-box;top: 0;bottom: 0;left: 50%;z-index: -1;}#sk-container-id-1 div.sk-parallel-item {display: flex;flex-direction: column;z-index: 1;position: relative;background-color: white;}#sk-container-id-1 div.sk-parallel-item:first-child::after {align-self: flex-end;width: 50%;}#sk-container-id-1 div.sk-parallel-item:last-child::after {align-self: flex-start;width: 50%;}#sk-container-id-1 div.sk-parallel-item:only-child::after {width: 0;}#sk-container-id-1 div.sk-dashed-wrapped {border: 1px dashed gray;margin: 0 0.4em 0.5em 0.4em;box-sizing: border-box;padding-bottom: 0.4em;background-color: white;}#sk-container-id-1 div.sk-label label {font-family: monospace;font-weight: bold;display: inline-block;line-height: 1.2em;}#sk-container-id-1 div.sk-label-container {text-align: center;}#sk-container-id-1 div.sk-container {/* jupyter's `normalize.less` sets `[hidden] { display: none; }` but bootstrap.min.css set `[hidden] { display: none !important; }` so we also need the `!important` here to be able to override the default hidden behavior on the sphinx rendered scikit-learn.org. See: https://github.com/scikit-learn/scikit-learn/issues/21755 */display: inline-block !important;position: relative;}#sk-container-id-1 div.sk-text-repr-fallback {display: none;}</style><div id=\"sk-container-id-1\" class=\"sk-top-container\"><div class=\"sk-text-repr-fallback\"><pre>LinearRegression()</pre><b>In a Jupyter environment, please rerun this cell to show the HTML representation or trust the notebook. <br />On GitHub, the HTML representation is unable to render, please try loading this page with nbviewer.org.</b></div><div class=\"sk-container\" hidden><div class=\"sk-item\"><div class=\"sk-estimator sk-toggleable\"><input class=\"sk-toggleable__control sk-hidden--visually\" id=\"sk-estimator-id-1\" type=\"checkbox\" checked><label for=\"sk-estimator-id-1\" class=\"sk-toggleable__label sk-toggleable__label-arrow\">LinearRegression</label><div class=\"sk-toggleable__content\"><pre>LinearRegression()</pre></div></div></div></div></div>"
      ],
      "text/plain": [
       "LinearRegression()"
      ]
     },
     "execution_count": 13,
     "metadata": {},
     "output_type": "execute_result"
    }
   ],
   "source": [
    "#Linear Regression \n",
    "from sklearn.linear_model import LinearRegression\n",
    "from sklearn.metrics import confusion_matrix, accuracy_score\n",
    "regressor = LinearRegression()\n",
    "regressor.fit(x_train,y_train)\n"
   ]
  },
  {
   "cell_type": "code",
   "execution_count": 14,
   "metadata": {},
   "outputs": [
    {
     "name": "stdout",
     "output_type": "stream",
     "text": [
      "[-7.12762807e-01  9.46043765e-01  7.67199531e-01 -5.27201875e-06]\n",
      "-6.987183088283928\n"
     ]
    }
   ],
   "source": [
    "#print regressor\n",
    "print(regressor.coef_)\n",
    "print(regressor.intercept_)"
   ]
  },
  {
   "cell_type": "code",
   "execution_count": 15,
   "metadata": {},
   "outputs": [
    {
     "name": "stdout",
     "output_type": "stream",
     "text": [
      "              Open          High           Low   Volume\n",
      "649    9907.150391   9925.750000   9882.000000   159600\n",
      "811   10578.099609  10636.799805  10569.000000   219200\n",
      "1549  14710.500000  14890.250000  14694.950195   457000\n",
      "400    8628.349609   8642.150391   8580.000000   187500\n",
      "1526  14736.299805  14763.900391  14597.849609   459000\n",
      "...            ...           ...           ...      ...\n",
      "1387  11777.549805  11794.250000  11325.849609  1371800\n",
      "1437  12556.400391  12643.900391  12475.250000   847500\n",
      "1064  11322.400391  11357.599609  11255.049805   373000\n",
      "1736  17001.550781  17309.150391  16836.800781   326500\n",
      "2091  19406.599609  19434.150391  19300.000000   226900\n",
      "\n",
      "[553 rows x 4 columns]\n"
     ]
    }
   ],
   "source": [
    "#predicted value\n",
    "predicted = regressor.predict(x_test)\n",
    "print(x_test)\n"
   ]
  },
  {
   "cell_type": "code",
   "execution_count": 16,
   "metadata": {},
   "outputs": [
    {
     "data": {
      "text/plain": [
       "(553,)"
      ]
     },
     "execution_count": 16,
     "metadata": {},
     "output_type": "execute_result"
    }
   ],
   "source": [
    "predicted.shape"
   ]
  },
  {
   "cell_type": "code",
   "execution_count": 17,
   "metadata": {},
   "outputs": [
    {
     "name": "stdout",
     "output_type": "stream",
     "text": [
      "            Actual     Predicted\n",
      "649    9912.799805   9902.382746\n",
      "811   10614.349609  10623.591198\n",
      "1549  14864.549805  14866.293301\n",
      "400    8632.599609   8600.482095\n",
      "1526  14736.400391  14653.865831\n",
      "...            ...           ...\n",
      "1387  11387.500000  11438.244386\n",
      "1437  12631.099609  12571.498671\n",
      "1064  11301.799805  11300.515696\n",
      "1736  17277.949219  17165.617911\n",
      "2091  19389.000000  19352.021937\n",
      "\n",
      "[553 rows x 2 columns]\n"
     ]
    }
   ],
   "source": [
    "_data = pd.DataFrame({'Actual': y_test,'Predicted': predicted})\n",
    "print(_data)"
   ]
  },
  {
   "cell_type": "code",
   "execution_count": 18,
   "metadata": {},
   "outputs": [
    {
     "data": {
      "text/plain": [
       "0.9998975050143531"
      ]
     },
     "execution_count": 18,
     "metadata": {},
     "output_type": "execute_result"
    }
   ],
   "source": [
    "regressor.score(x_test,y_test)"
   ]
  },
  {
   "cell_type": "code",
   "execution_count": 19,
   "metadata": {},
   "outputs": [
    {
     "name": "stdout",
     "output_type": "stream",
     "text": [
      "Mean_Absolute_Error: 27.046652061629334\n",
      "Mean_Square_Error: 1523.8079191493061\n",
      "Root_Mean_Error: 39.035982364343106\n"
     ]
    }
   ],
   "source": [
    "import math\n",
    "print(\"Mean_Absolute_Error:\",metrics.mean_absolute_error(y_test,predicted))\n",
    "print(\"Mean_Square_Error:\",metrics.mean_squared_error(y_test,predicted))\n",
    "print(\"Root_Mean_Error:\",math.sqrt(metrics.mean_squared_error(y_test,predicted)))"
   ]
  },
  {
   "cell_type": "code",
   "execution_count": 20,
   "metadata": {},
   "outputs": [
    {
     "name": "stdout",
     "output_type": "stream",
     "text": [
      "[ 8406.20279077  8159.67194289  8104.6777136  ... 21666.71132302\n",
      " 21769.77256564 21723.96104501]\n"
     ]
    }
   ],
   "source": [
    "predicted=regressor.predict(x)\n",
    "print(predicted)"
   ]
  },
  {
   "cell_type": "code",
   "execution_count": 21,
   "metadata": {},
   "outputs": [
    {
     "data": {
      "image/png": "[encoded data removed]",
      "text/plain": [
       "<Figure size 640x480 with 1 Axes>"
      ]
     },
     "metadata": {},
     "output_type": "display_data"
    }
   ],
   "source": [
    "#plot the graph\n",
    "plt.plot(y,label=\"Actual\")\n",
    "plt.plot(predicted,label =\"Predicted\")\n",
    "plt.xlabel(\"Index\")\n",
    "plt.ylabel(\"Value\")\n",
    "plt.title(\"Actual vs Predicted\")\n",
    "plt.legend()\n",
    "plt.show()"
   ]
  }
 ],
 "metadata": {
  "kernelspec": {
   "display_name": "Python 3",
   "language": "python",
   "name": "python3"
  },
  "language_info": {
   "codemirror_mode": {
    "name": "ipython",
    "version": 3
   },
   "file_extension": ".py",
   "mimetype": "text/x-python",
   "name": "python",
   "nbconvert_exporter": "python",
   "pygments_lexer": "ipython3",
   "version": "3.11.7"
  }
 },
 "nbformat": 4,
 "nbformat_minor": 2
}
